{
 "cells": [
  {
   "cell_type": "code",
   "execution_count": 1,
   "metadata": {},
   "outputs": [],
   "source": [
    "import pandas as pd \n",
    "import numpy as np\n",
    "from datetime import datetime\n",
    "from tqdm import tqdm\n",
    "import pickle"
   ]
  },
  {
   "cell_type": "code",
   "execution_count": 2,
   "metadata": {},
   "outputs": [
    {
     "name": "stderr",
     "output_type": "stream",
     "text": [
      "/Users/benoitrobaglia/miniforge3/envs/beraboost/lib/python3.10/site-packages/tqdm/auto.py:21: TqdmWarning: IProgress not found. Please update jupyter and ipywidgets. See https://ipywidgets.readthedocs.io/en/stable/user_install.html\n",
      "  from .autonotebook import tqdm as notebook_tqdm\n"
     ]
    }
   ],
   "source": [
    "import config\n",
    "from scripts.utils import setup_web3, get_logs, save_raw_logs, load_csv_data\n",
    "from scripts.fetch_logs import *\n",
    "from scripts.process_validator_delegator import *\n",
    "from scripts.process_user_rewards_vault import *"
   ]
  },
  {
   "cell_type": "code",
   "execution_count": 4,
   "metadata": {},
   "outputs": [
    {
     "name": "stdout",
     "output_type": "stream",
     "text": [
      "2457270\n"
     ]
    }
   ],
   "source": [
    "w3 = setup_web3()\n",
    "last_block = w3.eth.get_block(\"latest\")[\"number\"]\n",
    "print(last_block)"
   ]
  },
  {
   "cell_type": "code",
   "execution_count": 5,
   "metadata": {},
   "outputs": [],
   "source": [
    "timestamp = datetime.now().strftime(\"%Y-%m-%d %H:%M:%S\")"
   ]
  },
  {
   "cell_type": "code",
   "execution_count": 6,
   "metadata": {},
   "outputs": [
    {
     "name": "stdout",
     "output_type": "stream",
     "text": [
      "Fetching validator-delegator logs from block 1 to 2457270...\n",
      "Found 40023 validator-delegator logs\n",
      "Saved 40023 raw logs to raw_logs/validator_delegator/logs_2025-03-17_11:26:58.pkl\n"
     ]
    }
   ],
   "source": [
    "fetch_validator_delegator_logs(w3, 1, last_block, timestamp)"
   ]
  },
  {
   "cell_type": "code",
   "execution_count": 7,
   "metadata": {},
   "outputs": [],
   "source": [
    "file_name = 'logs_2025-03-17_11:26:58.pkl'"
   ]
  },
  {
   "cell_type": "code",
   "execution_count": 8,
   "metadata": {},
   "outputs": [],
   "source": [
    "raw_logs = pickle.load(open(f'raw_logs/validator_delegator/{file_name}', 'rb'))"
   ]
  },
  {
   "cell_type": "code",
   "execution_count": 9,
   "metadata": {},
   "outputs": [
    {
     "name": "stdout",
     "output_type": "stream",
     "text": [
      "Decoding 40023 logs using 11 processes...\n"
     ]
    },
    {
     "name": "stderr",
     "output_type": "stream",
     "text": [
      "Decoding logs: 100%|██████████| 40023/40023 [00:02<00:00, 15926.29it/s]\n"
     ]
    }
   ],
   "source": [
    "decoded_logs = decode_all_validator_delegator_logs_multiprocessing(raw_logs)"
   ]
  },
  {
   "cell_type": "code",
   "execution_count": 10,
   "metadata": {},
   "outputs": [],
   "source": [
    "validator_delegator_state = decoded_logs.groupby(['validator_address', 'delegator_address']).amount_bgt_delegated.sum().reset_index()"
   ]
  },
  {
   "cell_type": "code",
   "execution_count": 11,
   "metadata": {},
   "outputs": [
    {
     "data": {
      "text/html": [
       "<div>\n",
       "<style scoped>\n",
       "    .dataframe tbody tr th:only-of-type {\n",
       "        vertical-align: middle;\n",
       "    }\n",
       "\n",
       "    .dataframe tbody tr th {\n",
       "        vertical-align: top;\n",
       "    }\n",
       "\n",
       "    .dataframe thead th {\n",
       "        text-align: right;\n",
       "    }\n",
       "</style>\n",
       "<table border=\"1\" class=\"dataframe\">\n",
       "  <thead>\n",
       "    <tr style=\"text-align: right;\">\n",
       "      <th></th>\n",
       "      <th>validator_address</th>\n",
       "      <th>delegator_address</th>\n",
       "      <th>amount_bgt_delegated</th>\n",
       "    </tr>\n",
       "  </thead>\n",
       "  <tbody>\n",
       "    <tr>\n",
       "      <th>3754</th>\n",
       "      <td>0xb6a44182b44298daee8e3773048b978dc36b19c71a47...</td>\n",
       "      <td>0xf2048c29ef806ed003dee1ae703f00ef7340ac84</td>\n",
       "      <td>2.180500e+03</td>\n",
       "    </tr>\n",
       "    <tr>\n",
       "      <th>3749</th>\n",
       "      <td>0xb6a44182b44298daee8e3773048b978dc36b19c71a47...</td>\n",
       "      <td>0xca11bde05977b3631167028862be2a173976ca11</td>\n",
       "      <td>1.840340e+03</td>\n",
       "    </tr>\n",
       "    <tr>\n",
       "      <th>3753</th>\n",
       "      <td>0xb6a44182b44298daee8e3773048b978dc36b19c71a47...</td>\n",
       "      <td>0xef34e52ee7f94b10a64d8b23dc69c1aef92306d2</td>\n",
       "      <td>1.000000e+02</td>\n",
       "    </tr>\n",
       "    <tr>\n",
       "      <th>3743</th>\n",
       "      <td>0xb6a44182b44298daee8e3773048b978dc36b19c71a47...</td>\n",
       "      <td>0x7fb31cd942113428c528a503e2fdd8bb2ae91b7b</td>\n",
       "      <td>4.472917e+01</td>\n",
       "    </tr>\n",
       "    <tr>\n",
       "      <th>3734</th>\n",
       "      <td>0xb6a44182b44298daee8e3773048b978dc36b19c71a47...</td>\n",
       "      <td>0x0b9b90bcf3fa83a933668e072611af7805fe84ad</td>\n",
       "      <td>3.844242e+01</td>\n",
       "    </tr>\n",
       "    <tr>\n",
       "      <th>3750</th>\n",
       "      <td>0xb6a44182b44298daee8e3773048b978dc36b19c71a47...</td>\n",
       "      <td>0xe1cd1883cd6d05f971cfc148e2e7bc9802ff4849</td>\n",
       "      <td>3.573049e+01</td>\n",
       "    </tr>\n",
       "    <tr>\n",
       "      <th>3740</th>\n",
       "      <td>0xb6a44182b44298daee8e3773048b978dc36b19c71a47...</td>\n",
       "      <td>0x5ffcf42e97c07b2b418b42365752cd949ee2e2b7</td>\n",
       "      <td>1.579628e+01</td>\n",
       "    </tr>\n",
       "    <tr>\n",
       "      <th>3745</th>\n",
       "      <td>0xb6a44182b44298daee8e3773048b978dc36b19c71a47...</td>\n",
       "      <td>0x8b4e7ddcc28d7eba887d03b93f600d4030d4d586</td>\n",
       "      <td>4.247414e+00</td>\n",
       "    </tr>\n",
       "    <tr>\n",
       "      <th>3751</th>\n",
       "      <td>0xb6a44182b44298daee8e3773048b978dc36b19c71a47...</td>\n",
       "      <td>0xe427cfa8de00a6f688251350af71212c748a33d8</td>\n",
       "      <td>2.000000e+00</td>\n",
       "    </tr>\n",
       "    <tr>\n",
       "      <th>3738</th>\n",
       "      <td>0xb6a44182b44298daee8e3773048b978dc36b19c71a47...</td>\n",
       "      <td>0x5171f2d223b5f807456fdc12b10128addd187cd2</td>\n",
       "      <td>1.000000e+00</td>\n",
       "    </tr>\n",
       "    <tr>\n",
       "      <th>3735</th>\n",
       "      <td>0xb6a44182b44298daee8e3773048b978dc36b19c71a47...</td>\n",
       "      <td>0x190147a08581d434c8b3acaa77da7eeac081e835</td>\n",
       "      <td>7.722656e-01</td>\n",
       "    </tr>\n",
       "    <tr>\n",
       "      <th>3744</th>\n",
       "      <td>0xb6a44182b44298daee8e3773048b978dc36b19c71a47...</td>\n",
       "      <td>0x8259590916004bca4ee602b66504ea595cb3b04c</td>\n",
       "      <td>4.600000e-01</td>\n",
       "    </tr>\n",
       "    <tr>\n",
       "      <th>3741</th>\n",
       "      <td>0xb6a44182b44298daee8e3773048b978dc36b19c71a47...</td>\n",
       "      <td>0x6a2cf0ee30c8ac6b3299f2a2c586bff4f773f0c5</td>\n",
       "      <td>4.314984e-01</td>\n",
       "    </tr>\n",
       "    <tr>\n",
       "      <th>3752</th>\n",
       "      <td>0xb6a44182b44298daee8e3773048b978dc36b19c71a47...</td>\n",
       "      <td>0xe639370c174251a511648d30088271ebb65cab6d</td>\n",
       "      <td>3.782457e-01</td>\n",
       "    </tr>\n",
       "    <tr>\n",
       "      <th>3748</th>\n",
       "      <td>0xb6a44182b44298daee8e3773048b978dc36b19c71a47...</td>\n",
       "      <td>0xc071a1eb75a2ef8f5b80587a891ba5b988784548</td>\n",
       "      <td>1.860853e-01</td>\n",
       "    </tr>\n",
       "    <tr>\n",
       "      <th>3736</th>\n",
       "      <td>0xb6a44182b44298daee8e3773048b978dc36b19c71a47...</td>\n",
       "      <td>0x406f4533b2f6209812d7ef9c7d69b8c54217c208</td>\n",
       "      <td>5.000000e-02</td>\n",
       "    </tr>\n",
       "    <tr>\n",
       "      <th>3739</th>\n",
       "      <td>0xb6a44182b44298daee8e3773048b978dc36b19c71a47...</td>\n",
       "      <td>0x5ae40b91e12a500fae36cca0ee4a2e6b0f5aa4c2</td>\n",
       "      <td>4.355569e-02</td>\n",
       "    </tr>\n",
       "    <tr>\n",
       "      <th>3733</th>\n",
       "      <td>0xb6a44182b44298daee8e3773048b978dc36b19c71a47...</td>\n",
       "      <td>0x044110d7550b8860ce61fbb4e325aecd4205b0e0</td>\n",
       "      <td>1.853295e-02</td>\n",
       "    </tr>\n",
       "    <tr>\n",
       "      <th>3742</th>\n",
       "      <td>0xb6a44182b44298daee8e3773048b978dc36b19c71a47...</td>\n",
       "      <td>0x7de865445430e07abf6de592857657b39a45e229</td>\n",
       "      <td>6.080159e-03</td>\n",
       "    </tr>\n",
       "    <tr>\n",
       "      <th>3747</th>\n",
       "      <td>0xb6a44182b44298daee8e3773048b978dc36b19c71a47...</td>\n",
       "      <td>0xbeaae572562131e92dae1b6800c5c20af440caca</td>\n",
       "      <td>5.000000e-03</td>\n",
       "    </tr>\n",
       "    <tr>\n",
       "      <th>3737</th>\n",
       "      <td>0xb6a44182b44298daee8e3773048b978dc36b19c71a47...</td>\n",
       "      <td>0x4109266acac7bc28c754884920b059e016ddaf41</td>\n",
       "      <td>1.776357e-15</td>\n",
       "    </tr>\n",
       "    <tr>\n",
       "      <th>3746</th>\n",
       "      <td>0xb6a44182b44298daee8e3773048b978dc36b19c71a47...</td>\n",
       "      <td>0xbb3e89b5c67cd64ff7907eb6f2bfdb5a788fc427</td>\n",
       "      <td>0.000000e+00</td>\n",
       "    </tr>\n",
       "  </tbody>\n",
       "</table>\n",
       "</div>"
      ],
      "text/plain": [
       "                                      validator_address  \\\n",
       "3754  0xb6a44182b44298daee8e3773048b978dc36b19c71a47...   \n",
       "3749  0xb6a44182b44298daee8e3773048b978dc36b19c71a47...   \n",
       "3753  0xb6a44182b44298daee8e3773048b978dc36b19c71a47...   \n",
       "3743  0xb6a44182b44298daee8e3773048b978dc36b19c71a47...   \n",
       "3734  0xb6a44182b44298daee8e3773048b978dc36b19c71a47...   \n",
       "3750  0xb6a44182b44298daee8e3773048b978dc36b19c71a47...   \n",
       "3740  0xb6a44182b44298daee8e3773048b978dc36b19c71a47...   \n",
       "3745  0xb6a44182b44298daee8e3773048b978dc36b19c71a47...   \n",
       "3751  0xb6a44182b44298daee8e3773048b978dc36b19c71a47...   \n",
       "3738  0xb6a44182b44298daee8e3773048b978dc36b19c71a47...   \n",
       "3735  0xb6a44182b44298daee8e3773048b978dc36b19c71a47...   \n",
       "3744  0xb6a44182b44298daee8e3773048b978dc36b19c71a47...   \n",
       "3741  0xb6a44182b44298daee8e3773048b978dc36b19c71a47...   \n",
       "3752  0xb6a44182b44298daee8e3773048b978dc36b19c71a47...   \n",
       "3748  0xb6a44182b44298daee8e3773048b978dc36b19c71a47...   \n",
       "3736  0xb6a44182b44298daee8e3773048b978dc36b19c71a47...   \n",
       "3739  0xb6a44182b44298daee8e3773048b978dc36b19c71a47...   \n",
       "3733  0xb6a44182b44298daee8e3773048b978dc36b19c71a47...   \n",
       "3742  0xb6a44182b44298daee8e3773048b978dc36b19c71a47...   \n",
       "3747  0xb6a44182b44298daee8e3773048b978dc36b19c71a47...   \n",
       "3737  0xb6a44182b44298daee8e3773048b978dc36b19c71a47...   \n",
       "3746  0xb6a44182b44298daee8e3773048b978dc36b19c71a47...   \n",
       "\n",
       "                               delegator_address  amount_bgt_delegated  \n",
       "3754  0xf2048c29ef806ed003dee1ae703f00ef7340ac84          2.180500e+03  \n",
       "3749  0xca11bde05977b3631167028862be2a173976ca11          1.840340e+03  \n",
       "3753  0xef34e52ee7f94b10a64d8b23dc69c1aef92306d2          1.000000e+02  \n",
       "3743  0x7fb31cd942113428c528a503e2fdd8bb2ae91b7b          4.472917e+01  \n",
       "3734  0x0b9b90bcf3fa83a933668e072611af7805fe84ad          3.844242e+01  \n",
       "3750  0xe1cd1883cd6d05f971cfc148e2e7bc9802ff4849          3.573049e+01  \n",
       "3740  0x5ffcf42e97c07b2b418b42365752cd949ee2e2b7          1.579628e+01  \n",
       "3745  0x8b4e7ddcc28d7eba887d03b93f600d4030d4d586          4.247414e+00  \n",
       "3751  0xe427cfa8de00a6f688251350af71212c748a33d8          2.000000e+00  \n",
       "3738  0x5171f2d223b5f807456fdc12b10128addd187cd2          1.000000e+00  \n",
       "3735  0x190147a08581d434c8b3acaa77da7eeac081e835          7.722656e-01  \n",
       "3744  0x8259590916004bca4ee602b66504ea595cb3b04c          4.600000e-01  \n",
       "3741  0x6a2cf0ee30c8ac6b3299f2a2c586bff4f773f0c5          4.314984e-01  \n",
       "3752  0xe639370c174251a511648d30088271ebb65cab6d          3.782457e-01  \n",
       "3748  0xc071a1eb75a2ef8f5b80587a891ba5b988784548          1.860853e-01  \n",
       "3736  0x406f4533b2f6209812d7ef9c7d69b8c54217c208          5.000000e-02  \n",
       "3739  0x5ae40b91e12a500fae36cca0ee4a2e6b0f5aa4c2          4.355569e-02  \n",
       "3733  0x044110d7550b8860ce61fbb4e325aecd4205b0e0          1.853295e-02  \n",
       "3742  0x7de865445430e07abf6de592857657b39a45e229          6.080159e-03  \n",
       "3747  0xbeaae572562131e92dae1b6800c5c20af440caca          5.000000e-03  \n",
       "3737  0x4109266acac7bc28c754884920b059e016ddaf41          1.776357e-15  \n",
       "3746  0xbb3e89b5c67cd64ff7907eb6f2bfdb5a788fc427          0.000000e+00  "
      ]
     },
     "execution_count": 11,
     "metadata": {},
     "output_type": "execute_result"
    }
   ],
   "source": [
    "c1_pubkey = '0xb6a44182b44298daee8e3773048b978dc36b19c71a47f90318ea5d5309fc06e9'\n",
    "validator_delegator_state.loc[validator_delegator_state.validator_address == c1_pubkey].sort_values('amount_bgt_delegated', ascending=False)"
   ]
  },
  {
   "cell_type": "code",
   "execution_count": null,
   "metadata": {},
   "outputs": [],
   "source": []
  }
 ],
 "metadata": {
  "kernelspec": {
   "display_name": "beraboost",
   "language": "python",
   "name": "python3"
  },
  "language_info": {
   "codemirror_mode": {
    "name": "ipython",
    "version": 3
   },
   "file_extension": ".py",
   "mimetype": "text/x-python",
   "name": "python",
   "nbconvert_exporter": "python",
   "pygments_lexer": "ipython3",
   "version": "3.10.16"
  }
 },
 "nbformat": 4,
 "nbformat_minor": 2
}
