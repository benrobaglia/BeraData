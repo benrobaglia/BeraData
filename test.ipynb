{
 "cells": [
  {
   "cell_type": "code",
   "execution_count": 1,
   "metadata": {},
   "outputs": [],
   "source": [
    "import pandas as pd \n",
    "import numpy as np\n",
    "from datetime import datetime\n",
    "from tqdm import tqdm\n",
    "import pickle"
   ]
  },
  {
   "cell_type": "code",
   "execution_count": 2,
   "metadata": {},
   "outputs": [
    {
     "name": "stderr",
     "output_type": "stream",
     "text": [
      "/Users/benoitrobaglia/miniforge3/envs/beraboost/lib/python3.10/site-packages/tqdm/auto.py:21: TqdmWarning: IProgress not found. Please update jupyter and ipywidgets. See https://ipywidgets.readthedocs.io/en/stable/user_install.html\n",
      "  from .autonotebook import tqdm as notebook_tqdm\n"
     ]
    }
   ],
   "source": [
    "import config\n",
    "from scripts.utils import setup_web3, get_logs, save_raw_logs, load_csv_data\n",
    "from scripts.fetch_logs import *\n",
    "from scripts.process_validator_delegator import *\n",
    "from scripts.process_user_rewards_vault import *"
   ]
  },
  {
   "cell_type": "code",
   "execution_count": 3,
   "metadata": {},
   "outputs": [],
   "source": [
    "w3 = setup_web3()"
   ]
  },
  {
   "cell_type": "code",
   "execution_count": 4,
   "metadata": {},
   "outputs": [
    {
     "name": "stdout",
     "output_type": "stream",
     "text": [
      "2505226\n"
     ]
    }
   ],
   "source": [
    "last_block = w3.eth.get_block(\"latest\")[\"number\"]\n",
    "print(last_block)"
   ]
  },
  {
   "cell_type": "code",
   "execution_count": 5,
   "metadata": {},
   "outputs": [],
   "source": [
    "timestamp = datetime.now().strftime(\"%Y-%m-%d %H:%M:%S\")"
   ]
  },
  {
   "cell_type": "code",
   "execution_count": 6,
   "metadata": {},
   "outputs": [
    {
     "name": "stdout",
     "output_type": "stream",
     "text": [
      "Fetching validator-delegator logs from block 1 to 2500176...\n",
      "Found 40901 validator-delegator logs\n",
      "Saved 40901 raw logs to raw_logs/validator_delegator/logs_2025-03-18_10:51:59.pkl\n"
     ]
    }
   ],
   "source": [
    "fetch_validator_delegator_logs(w3, 1, last_block, timestamp)"
   ]
  },
  {
   "cell_type": "markdown",
   "metadata": {},
   "source": [
    "## Load raw logs"
   ]
  },
  {
   "cell_type": "code",
   "execution_count": 7,
   "metadata": {},
   "outputs": [],
   "source": [
    "file_name = 'logs_2025-03-18_10:51:59.pkl'"
   ]
  },
  {
   "cell_type": "code",
   "execution_count": 8,
   "metadata": {},
   "outputs": [],
   "source": [
    "raw_logs = pickle.load(open(f'raw_logs/validator_delegator/{file_name}', 'rb'))"
   ]
  },
  {
   "cell_type": "code",
   "execution_count": 9,
   "metadata": {},
   "outputs": [
    {
     "name": "stdout",
     "output_type": "stream",
     "text": [
      "Decoding 40901 logs using 11 processes...\n"
     ]
    },
    {
     "name": "stderr",
     "output_type": "stream",
     "text": [
      "Decoding logs: 100%|██████████| 40901/40901 [00:02<00:00, 16914.34it/s]\n"
     ]
    }
   ],
   "source": [
    "decoded_logs = decode_all_validator_delegator_logs_multiprocessing(raw_logs)"
   ]
  },
  {
   "cell_type": "code",
   "execution_count": 10,
   "metadata": {},
   "outputs": [],
   "source": [
    "decoded_logs.to_csv(f'processed_data/validator_delegator/decoded_logs/{file_name}.csv', index=False)"
   ]
  },
  {
   "cell_type": "code",
   "execution_count": 11,
   "metadata": {},
   "outputs": [],
   "source": [
    "validator_delegator_state = decoded_logs.groupby(['validator_address', 'delegator_address']).amount_bgt_delegated.sum().reset_index()"
   ]
  },
  {
   "cell_type": "code",
   "execution_count": 35,
   "metadata": {},
   "outputs": [],
   "source": [
    "validator_delegator_state.to_csv(f\"processed_data/validator_delegator/states/validator_delegator_state_{timestamp.replace(' ', '_')}.csv\", index=False)"
   ]
  },
  {
   "cell_type": "markdown",
   "metadata": {},
   "source": [
    "## User RV data"
   ]
  },
  {
   "cell_type": "code",
   "execution_count": 13,
   "metadata": {},
   "outputs": [
    {
     "name": "stdout",
     "output_type": "stream",
     "text": [
      "Fetching user-rewards vault logs from block 1 to 2500176...\n",
      "Querying logs for 5 reward vaults: 0xC2BaA8443cDA8EBE51a640905A8E6bc4e1f9872c, 0x086f82fa0cA310Cc835a9DB4f53697687ef149c7, 0x17376aD6167a5592FbEAA42e6068c132474a513d, 0x6649Bc987a7c0fB0199c523de1b1b330cd0457A8, 0xF99be47baf0c22B7eB5EAC42c8D91b9942Dc7e84\n",
      "Found 336901 user-rewards vault logs across all reward vaults\n",
      "Saved 336901 raw logs to raw_logs/user_rewards_vault/logs_2025-03-18 10:51:59.pkl\n"
     ]
    }
   ],
   "source": [
    "fetch_user_rewards_vault_logs(w3, 1, last_block, timestamp)"
   ]
  },
  {
   "cell_type": "code",
   "execution_count": 17,
   "metadata": {},
   "outputs": [],
   "source": [
    "raw_logs_urv = pickle.load(open(f'raw_logs/user_rewards_vault/{file_name}', 'rb'))"
   ]
  },
  {
   "cell_type": "code",
   "execution_count": 18,
   "metadata": {},
   "outputs": [
    {
     "data": {
      "text/plain": [
       "AttributeDict({'address': '0x17376aD6167a5592FbEAA42e6068c132474a513d',\n",
       " 'topics': [HexBytes('0x9e71bc8eea02a63969f509818f2dafb9254532904319f9dbda79b67bd34a5f3d'),\n",
       "  HexBytes('0x0000000000000000000000000df14916796854d899576cbde69a35bafb923c22')],\n",
       " 'data': HexBytes('0x0000000000000000000000000000000000000000000000000001c78c602f170d'),\n",
       " 'blockHash': HexBytes('0xe038d63e0e6b979d4afc9e09ca99588f70dd971c838613d7d0b224d02eaa5ecb'),\n",
       " 'blockNumber': 2500173,\n",
       " 'blockTimestamp': '0x67d94236',\n",
       " 'transactionHash': HexBytes('0xa9342f2ce452b771550e909ce05e9ffbba0446815ab6cb60de949b90be1320b2'),\n",
       " 'transactionIndex': 30,\n",
       " 'logIndex': 90,\n",
       " 'removed': False})"
      ]
     },
     "execution_count": 18,
     "metadata": {},
     "output_type": "execute_result"
    }
   ],
   "source": [
    "raw_logs_urv[-1]"
   ]
  },
  {
   "cell_type": "code",
   "execution_count": 19,
   "metadata": {},
   "outputs": [
    {
     "name": "stdout",
     "output_type": "stream",
     "text": [
      "Decoding 336901 logs using 11 processes...\n"
     ]
    },
    {
     "name": "stderr",
     "output_type": "stream",
     "text": [
      "Decoding logs: 100%|██████████| 336901/336901 [00:13<00:00, 25810.45it/s]\n"
     ]
    }
   ],
   "source": [
    "urv_df = decode_all_user_rewards_vault_logs_multiprocessing(raw_logs_urv)"
   ]
  },
  {
   "cell_type": "code",
   "execution_count": 20,
   "metadata": {},
   "outputs": [
    {
     "data": {
      "text/html": [
       "<div>\n",
       "<style scoped>\n",
       "    .dataframe tbody tr th:only-of-type {\n",
       "        vertical-align: middle;\n",
       "    }\n",
       "\n",
       "    .dataframe tbody tr th {\n",
       "        vertical-align: top;\n",
       "    }\n",
       "\n",
       "    .dataframe thead th {\n",
       "        text-align: right;\n",
       "    }\n",
       "</style>\n",
       "<table border=\"1\" class=\"dataframe\">\n",
       "  <thead>\n",
       "    <tr style=\"text-align: right;\">\n",
       "      <th></th>\n",
       "      <th>tx_hash</th>\n",
       "      <th>block_number</th>\n",
       "      <th>user_address</th>\n",
       "      <th>rv_address</th>\n",
       "      <th>amount</th>\n",
       "      <th>event_type</th>\n",
       "    </tr>\n",
       "  </thead>\n",
       "  <tbody>\n",
       "    <tr>\n",
       "      <th>0</th>\n",
       "      <td>0x1f6dc5bc86cd55d53e009ed6ce08ce918243d80e01b0...</td>\n",
       "      <td>479405</td>\n",
       "      <td>0x160d0e134b78bf083bd7f03b5d9fcbcb1c6ff27a</td>\n",
       "      <td>0xC2BaA8443cDA8EBE51a640905A8E6bc4e1f9872c</td>\n",
       "      <td>8.977546e-01</td>\n",
       "      <td>0x9e71bc8eea02a63969f509818f2dafb9254532904319...</td>\n",
       "    </tr>\n",
       "    <tr>\n",
       "      <th>1</th>\n",
       "      <td>0x5748c324a5471d8c396e197584417d81ccf711713f11...</td>\n",
       "      <td>778512</td>\n",
       "      <td>0x59945c5be54ff1d8deb0e8bc7f132f950da910a2</td>\n",
       "      <td>0xF99be47baf0c22B7eB5EAC42c8D91b9942Dc7e84</td>\n",
       "      <td>4.199976e+07</td>\n",
       "      <td>0x9e71bc8eea02a63969f509818f2dafb9254532904319...</td>\n",
       "    </tr>\n",
       "    <tr>\n",
       "      <th>2</th>\n",
       "      <td>0x5748c324a5471d8c396e197584417d81ccf711713f11...</td>\n",
       "      <td>778512</td>\n",
       "      <td>0xd8c53e0e7cf3ecfe642a03a30ec30681ef4159a9</td>\n",
       "      <td>0x6649Bc987a7c0fB0199c523de1b1b330cd0457A8</td>\n",
       "      <td>2.699778e+07</td>\n",
       "      <td>0x9e71bc8eea02a63969f509818f2dafb9254532904319...</td>\n",
       "    </tr>\n",
       "    <tr>\n",
       "      <th>3</th>\n",
       "      <td>0x14d1c20b813d8969755cc566634af2d423be78f7d8be...</td>\n",
       "      <td>778557</td>\n",
       "      <td>0xcb4d5e7026c3f86348c80d918ba9e511295399f1</td>\n",
       "      <td>0xC2BaA8443cDA8EBE51a640905A8E6bc4e1f9872c</td>\n",
       "      <td>1.294314e+00</td>\n",
       "      <td>0x9e71bc8eea02a63969f509818f2dafb9254532904319...</td>\n",
       "    </tr>\n",
       "    <tr>\n",
       "      <th>4</th>\n",
       "      <td>0x3728e4bde621920d7dc387dc80910fe77ead803b3f37...</td>\n",
       "      <td>778563</td>\n",
       "      <td>0xacb0e88f7497bfc5fe2d139008792d9ba81a0f6e</td>\n",
       "      <td>0x086f82fa0cA310Cc835a9DB4f53697687ef149c7</td>\n",
       "      <td>2.870550e-02</td>\n",
       "      <td>0x9e71bc8eea02a63969f509818f2dafb9254532904319...</td>\n",
       "    </tr>\n",
       "    <tr>\n",
       "      <th>...</th>\n",
       "      <td>...</td>\n",
       "      <td>...</td>\n",
       "      <td>...</td>\n",
       "      <td>...</td>\n",
       "      <td>...</td>\n",
       "      <td>...</td>\n",
       "    </tr>\n",
       "    <tr>\n",
       "      <th>336896</th>\n",
       "      <td>0x24f34d31dcdf66ac345dde2870ac51539526f626ac3f...</td>\n",
       "      <td>2500157</td>\n",
       "      <td>0x1419515d3703d8f2cc72fa6a341685e4f8e7e8e1</td>\n",
       "      <td>0xF99be47baf0c22B7eB5EAC42c8D91b9942Dc7e84</td>\n",
       "      <td>9.941341e-02</td>\n",
       "      <td>0x9e71bc8eea02a63969f509818f2dafb9254532904319...</td>\n",
       "    </tr>\n",
       "    <tr>\n",
       "      <th>336897</th>\n",
       "      <td>0xda8ba8b9b99f3838799fd5cf506e86c293fa3767ed24...</td>\n",
       "      <td>2500168</td>\n",
       "      <td>0xe2d8941dfb85435419d90397b09d18024ebeef2c</td>\n",
       "      <td>0xC2BaA8443cDA8EBE51a640905A8E6bc4e1f9872c</td>\n",
       "      <td>2.916203e-02</td>\n",
       "      <td>0x9e71bc8eea02a63969f509818f2dafb9254532904319...</td>\n",
       "    </tr>\n",
       "    <tr>\n",
       "      <th>336898</th>\n",
       "      <td>0xca892e4adb8a9deb23160e4766c6d092c2b4f5c345ce...</td>\n",
       "      <td>2500170</td>\n",
       "      <td>0xbbb228b0d7d83f86e23a5ef3b1007d0100581613</td>\n",
       "      <td>0x6649Bc987a7c0fB0199c523de1b1b330cd0457A8</td>\n",
       "      <td>4.500986e+00</td>\n",
       "      <td>0x9e71bc8eea02a63969f509818f2dafb9254532904319...</td>\n",
       "    </tr>\n",
       "    <tr>\n",
       "      <th>336899</th>\n",
       "      <td>0xe6b4a51f4b6879be4fb719e5a977d7576fd0dca80496...</td>\n",
       "      <td>2500171</td>\n",
       "      <td>0x78beda3a06443f51718d746ade95b5fac094633e</td>\n",
       "      <td>0x086f82fa0cA310Cc835a9DB4f53697687ef149c7</td>\n",
       "      <td>6.799220e-04</td>\n",
       "      <td>0x9e71bc8eea02a63969f509818f2dafb9254532904319...</td>\n",
       "    </tr>\n",
       "    <tr>\n",
       "      <th>336900</th>\n",
       "      <td>0xa9342f2ce452b771550e909ce05e9ffbba0446815ab6...</td>\n",
       "      <td>2500173</td>\n",
       "      <td>0x0df14916796854d899576cbde69a35bafb923c22</td>\n",
       "      <td>0x17376aD6167a5592FbEAA42e6068c132474a513d</td>\n",
       "      <td>5.008807e-04</td>\n",
       "      <td>0x9e71bc8eea02a63969f509818f2dafb9254532904319...</td>\n",
       "    </tr>\n",
       "  </tbody>\n",
       "</table>\n",
       "<p>336901 rows × 6 columns</p>\n",
       "</div>"
      ],
      "text/plain": [
       "                                                  tx_hash  block_number  \\\n",
       "0       0x1f6dc5bc86cd55d53e009ed6ce08ce918243d80e01b0...        479405   \n",
       "1       0x5748c324a5471d8c396e197584417d81ccf711713f11...        778512   \n",
       "2       0x5748c324a5471d8c396e197584417d81ccf711713f11...        778512   \n",
       "3       0x14d1c20b813d8969755cc566634af2d423be78f7d8be...        778557   \n",
       "4       0x3728e4bde621920d7dc387dc80910fe77ead803b3f37...        778563   \n",
       "...                                                   ...           ...   \n",
       "336896  0x24f34d31dcdf66ac345dde2870ac51539526f626ac3f...       2500157   \n",
       "336897  0xda8ba8b9b99f3838799fd5cf506e86c293fa3767ed24...       2500168   \n",
       "336898  0xca892e4adb8a9deb23160e4766c6d092c2b4f5c345ce...       2500170   \n",
       "336899  0xe6b4a51f4b6879be4fb719e5a977d7576fd0dca80496...       2500171   \n",
       "336900  0xa9342f2ce452b771550e909ce05e9ffbba0446815ab6...       2500173   \n",
       "\n",
       "                                      user_address  \\\n",
       "0       0x160d0e134b78bf083bd7f03b5d9fcbcb1c6ff27a   \n",
       "1       0x59945c5be54ff1d8deb0e8bc7f132f950da910a2   \n",
       "2       0xd8c53e0e7cf3ecfe642a03a30ec30681ef4159a9   \n",
       "3       0xcb4d5e7026c3f86348c80d918ba9e511295399f1   \n",
       "4       0xacb0e88f7497bfc5fe2d139008792d9ba81a0f6e   \n",
       "...                                            ...   \n",
       "336896  0x1419515d3703d8f2cc72fa6a341685e4f8e7e8e1   \n",
       "336897  0xe2d8941dfb85435419d90397b09d18024ebeef2c   \n",
       "336898  0xbbb228b0d7d83f86e23a5ef3b1007d0100581613   \n",
       "336899  0x78beda3a06443f51718d746ade95b5fac094633e   \n",
       "336900  0x0df14916796854d899576cbde69a35bafb923c22   \n",
       "\n",
       "                                        rv_address        amount  \\\n",
       "0       0xC2BaA8443cDA8EBE51a640905A8E6bc4e1f9872c  8.977546e-01   \n",
       "1       0xF99be47baf0c22B7eB5EAC42c8D91b9942Dc7e84  4.199976e+07   \n",
       "2       0x6649Bc987a7c0fB0199c523de1b1b330cd0457A8  2.699778e+07   \n",
       "3       0xC2BaA8443cDA8EBE51a640905A8E6bc4e1f9872c  1.294314e+00   \n",
       "4       0x086f82fa0cA310Cc835a9DB4f53697687ef149c7  2.870550e-02   \n",
       "...                                            ...           ...   \n",
       "336896  0xF99be47baf0c22B7eB5EAC42c8D91b9942Dc7e84  9.941341e-02   \n",
       "336897  0xC2BaA8443cDA8EBE51a640905A8E6bc4e1f9872c  2.916203e-02   \n",
       "336898  0x6649Bc987a7c0fB0199c523de1b1b330cd0457A8  4.500986e+00   \n",
       "336899  0x086f82fa0cA310Cc835a9DB4f53697687ef149c7  6.799220e-04   \n",
       "336900  0x17376aD6167a5592FbEAA42e6068c132474a513d  5.008807e-04   \n",
       "\n",
       "                                               event_type  \n",
       "0       0x9e71bc8eea02a63969f509818f2dafb9254532904319...  \n",
       "1       0x9e71bc8eea02a63969f509818f2dafb9254532904319...  \n",
       "2       0x9e71bc8eea02a63969f509818f2dafb9254532904319...  \n",
       "3       0x9e71bc8eea02a63969f509818f2dafb9254532904319...  \n",
       "4       0x9e71bc8eea02a63969f509818f2dafb9254532904319...  \n",
       "...                                                   ...  \n",
       "336896  0x9e71bc8eea02a63969f509818f2dafb9254532904319...  \n",
       "336897  0x9e71bc8eea02a63969f509818f2dafb9254532904319...  \n",
       "336898  0x9e71bc8eea02a63969f509818f2dafb9254532904319...  \n",
       "336899  0x9e71bc8eea02a63969f509818f2dafb9254532904319...  \n",
       "336900  0x9e71bc8eea02a63969f509818f2dafb9254532904319...  \n",
       "\n",
       "[336901 rows x 6 columns]"
      ]
     },
     "execution_count": 20,
     "metadata": {},
     "output_type": "execute_result"
    }
   ],
   "source": [
    "urv_df"
   ]
  },
  {
   "cell_type": "code",
   "execution_count": 25,
   "metadata": {},
   "outputs": [],
   "source": [
    "urv_df.to_csv(f\"processed_data/user_rewards_vault/decoded_logs/{file_name.split('.')[0]}_decoded.csv\", index=False)"
   ]
  },
  {
   "cell_type": "code",
   "execution_count": 26,
   "metadata": {},
   "outputs": [],
   "source": [
    "urv_state = urv_df.groupby(['user_address', 'rv_address']).amount.sum().reset_index()"
   ]
  },
  {
   "cell_type": "code",
   "execution_count": 27,
   "metadata": {},
   "outputs": [
    {
     "data": {
      "text/plain": [
       "'2025-03-18 10:51:59'"
      ]
     },
     "execution_count": 27,
     "metadata": {},
     "output_type": "execute_result"
    }
   ],
   "source": [
    "timestamp"
   ]
  },
  {
   "cell_type": "code",
   "execution_count": 29,
   "metadata": {},
   "outputs": [],
   "source": [
    "urv_state.loc[urv_state.amount > 0].reset_index(drop=True).to_csv(f\"processed_data/user_rewards_vault/states/user_rewards_vault_state_{timestamp.replace(' ', '_')}.csv\", index=False)"
   ]
  },
  {
   "cell_type": "markdown",
   "metadata": {},
   "source": [
    "## Beraboost v1"
   ]
  },
  {
   "cell_type": "code",
   "execution_count": 36,
   "metadata": {},
   "outputs": [],
   "source": [
    "vd_state = pd.read_csv(f\"processed_data/validator_delegator/states/validator_delegator_state_{timestamp.replace(' ', '_')}.csv\")\n",
    "urv_state = pd.read_csv(f\"processed_data/user_rewards_vault/states/user_rewards_vault_state_{timestamp.replace(' ', '_')}.csv\")"
   ]
  },
  {
   "cell_type": "code",
   "execution_count": 37,
   "metadata": {},
   "outputs": [],
   "source": [
    "c1_pubkey = '0xb6a44182b44298daee8e3773048b978dc36b19c71a47f90318ea5d5309fc06e9'"
   ]
  },
  {
   "cell_type": "code",
   "execution_count": 136,
   "metadata": {},
   "outputs": [],
   "source": [
    "def run_beraboost_v1(val_pubkey, user_rv_state, vd_state):\n",
    "    # Compute the total staked amount and user share\n",
    "    total_staked = user_rv_state.groupby('rv_address').amount.sum()\n",
    "    user_rv_state['user_share'] = user_rv_state.apply(\n",
    "        lambda x: x.amount / total_staked[x.rv_address], axis=1)\n",
    "\n",
    "    # Filter active delegators of the val_pubkey\n",
    "    delegators_val = vd_state.loc[vd_state.validator_address == val_pubkey].reset_index(\n",
    "        drop=True)\n",
    "    delegators_val = delegators_val.loc[delegators_val.delegator_address.isin(\n",
    "        user_rv_state.user_address)].reset_index(drop=True)\n",
    "    delegators_val['amount_bgt_delegated_norm'] = delegators_val.amount_bgt_delegated / \\\n",
    "        delegators_val.amount_bgt_delegated.sum()\n",
    "\n",
    "    # Compute the user share of the active delegators\n",
    "    delegator_rv = user_rv_state.loc[user_rv_state.user_address.isin(\n",
    "        delegators_val.delegator_address)].reset_index(drop=True)\n",
    "    delegator_rv_matrix = delegator_rv.pivot(\n",
    "        index='user_address', columns='rv_address', values='user_share').fillna(0)\n",
    "\n",
    "    # Get max user share for each delegator\n",
    "    max_liq = np.argmax(delegator_rv_matrix, axis=1)\n",
    "\n",
    "    # Compute the weight\n",
    "    w = pd.DataFrame({'delegator_address': delegator_rv_matrix.index,\n",
    "                      'rv_address': delegator_rv_matrix.columns[max_liq]}).merge(delegators_val[['delegator_address', 'amount_bgt_delegated_norm']],\n",
    "                                                                                 on='delegator_address',\n",
    "                                                                                 how='left')\n",
    "\n",
    "    cb = w.groupby('rv_address').amount_bgt_delegated_norm.sum()\n",
    "    cb = round(cb*1e4)  # Converting values in BP and rounding\n",
    "    cb = cb.loc[cb > 0]  # Filtering non zero values\n",
    "    cb_formatted = list(cb.items())\n",
    "    return cb_formatted\n"
   ]
  },
  {
   "cell_type": "code",
   "execution_count": 137,
   "metadata": {},
   "outputs": [
    {
     "data": {
      "text/plain": [
       "[('0x086f82fa0cA310Cc835a9DB4f53697687ef149c7', 2481.0),\n",
       " ('0x6649Bc987a7c0fB0199c523de1b1b330cd0457A8', 28.0),\n",
       " ('0xC2BaA8443cDA8EBE51a640905A8E6bc4e1f9872c', 2095.0),\n",
       " ('0xF99be47baf0c22B7eB5EAC42c8D91b9942Dc7e84', 5396.0)]"
      ]
     },
     "execution_count": 137,
     "metadata": {},
     "output_type": "execute_result"
    }
   ],
   "source": [
    "run_beraboost_v1(c1_pubkey, urv_state, vd_state)"
   ]
  },
  {
   "cell_type": "markdown",
   "metadata": {},
   "source": [
    "## Berachef weight updates"
   ]
  },
  {
   "cell_type": "code",
   "execution_count": 6,
   "metadata": {},
   "outputs": [
    {
     "name": "stdout",
     "output_type": "stream",
     "text": [
      "Fetching BeraChef weight update logs from block 1 to 2505226...\n",
      "Found 139 BeraChef weight update logs\n",
      "Saved 139 raw logs to raw_logs/berachef_weight_updates/logs_2025-03-18_13:33:58.pkl\n"
     ]
    }
   ],
   "source": [
    "fetch_berachef_weight_update_logs(w3, 1, last_block, timestamp)"
   ]
  },
  {
   "cell_type": "code",
   "execution_count": 7,
   "metadata": {},
   "outputs": [
    {
     "data": {
      "text/plain": [
       "'2025-03-18 13:33:58'"
      ]
     },
     "execution_count": 7,
     "metadata": {},
     "output_type": "execute_result"
    }
   ],
   "source": [
    "timestamp"
   ]
  },
  {
   "cell_type": "code",
   "execution_count": 9,
   "metadata": {},
   "outputs": [],
   "source": [
    "raw_logs_berachef = pickle.load(open(f\"{config.RAW_LOGS_DIR['berachef_weight_updates']}/logs_{timestamp.replace(' ', '_')}.pkl\", 'rb'))"
   ]
  },
  {
   "cell_type": "code",
   "execution_count": 12,
   "metadata": {},
   "outputs": [
    {
     "data": {
      "text/plain": [
       "AttributeDict({'address': '0xdf960E8F3F19C481dDE769edEDD439ea1a63426a',\n",
       " 'topics': [HexBytes('0x09fed3850dff4fef07a5284847da937f94021882ecab1c143fcacd69e5451bd8'),\n",
       "  HexBytes('0x001e7ef887da57571a396802eb0eef14014ea14a2a1543e55509f2d1c237a6f6')],\n",
       " 'data': HexBytes('0x0000000000000000000000000000000000000000000000000000000000260e9200000000000000000000000000000000000000000000000000000000000000400000000000000000000000000000000000000000000000000000000000000005000000000000000000000000086f82fa0ca310cc835a9db4f53697687ef149c700000000000000000000000000000000000000000000000000000000000009c300000000000000000000000017376ad6167a5592fbeaa42e6068c132474a513d00000000000000000000000000000000000000000000000000000000000009c3000000000000000000000000c2baa8443cda8ebe51a640905a8e6bc4e1f9872c0000000000000000000000000000000000000000000000000000000000000db0000000000000000000000000f99be47baf0c22b7eb5eac42c8d91b9942dc7e8400000000000000000000000000000000000000000000000000000000000002ed0000000000000000000000006649bc987a7c0fb0199c523de1b1b330cd0457a800000000000000000000000000000000000000000000000000000000000002ed'),\n",
       " 'blockHash': HexBytes('0x0780547ae291e4fa4e496fbafc0b897bc989940bed82abff98059b00a5474db8'),\n",
       " 'blockNumber': 2494759,\n",
       " 'blockTimestamp': '0x67d91879',\n",
       " 'transactionHash': HexBytes('0xbe7404954ed98e3624eb3f4f741f0874950cf392fda373f146557a8326ae9af6'),\n",
       " 'transactionIndex': 0,\n",
       " 'logIndex': 4,\n",
       " 'removed': False})"
      ]
     },
     "execution_count": 12,
     "metadata": {},
     "output_type": "execute_result"
    }
   ],
   "source": [
    "l = raw_logs_berachef[-1]\n",
    "l"
   ]
  },
  {
   "cell_type": "code",
   "execution_count": null,
   "metadata": {},
   "outputs": [],
   "source": [
    "def decode_weight_update_log(w3, log):\n",
    "    event_signature = '0x' + log['topics'][0].hex() if isinstance(log['topics'][0], bytes) else log['topics'][0]\n",
    "    assert event_signature == config.BERACHEF.event_signatures['ActivateRewardAllocation'], f\"Invalid event signature: {event_signature}\"\n",
    "    # Load contract\n",
    "    abi = get_contract_abi(config.BERACHEF.abi_url)\n",
    "    berachef_contract = w3.eth.contract(address=config.BERACHEF.address, abi=abi)\n",
    "    decoded_log = berachef_contract.events.ActivateRewardAllocation().process_log(log)\n",
    "        \n",
    "    return {\n",
    "        \"block_number\": log['blockNumber'],\n",
    "        \"transaction_hash\": '0x' + log['transactionHash'].hex() if isinstance(log['transactionHash'], bytes) else log['transactionHash'],\n",
    "        \"validator_address\": '0x' + log['topics'][1].hex() if isinstance(log['topics'][1], bytes) else log['topics'][1],\n",
    "        \"start_block\": decoded_log.args.startBlock,\n",
    "        \"weights\": [(w.receiver, w.percentageNumerator) for w in decoded_log.args.weights]\n",
    "    }\n"
   ]
  },
  {
   "cell_type": "code",
   "execution_count": 20,
   "metadata": {},
   "outputs": [],
   "source": [
    "abi = get_contract_abi(config.BERACHEF.abi_url)"
   ]
  },
  {
   "cell_type": "code",
   "execution_count": 23,
   "metadata": {},
   "outputs": [],
   "source": [
    "berachef_contract = w3.eth.contract(address=config.BERACHEF.address, abi=abi)"
   ]
  },
  {
   "cell_type": "code",
   "execution_count": 25,
   "metadata": {},
   "outputs": [],
   "source": [
    "pl = berachef_contract.events.ActivateRewardAllocation().process_log(l)"
   ]
  },
  {
   "cell_type": "code",
   "execution_count": 31,
   "metadata": {},
   "outputs": [
    {
     "data": {
      "text/plain": [
       "[('0x086f82fa0cA310Cc835a9DB4f53697687ef149c7', 2499),\n",
       " ('0x17376aD6167a5592FbEAA42e6068c132474a513d', 2499),\n",
       " ('0xC2BaA8443cDA8EBE51a640905A8E6bc4e1f9872c', 3504),\n",
       " ('0xF99be47baf0c22B7eB5EAC42c8D91b9942Dc7e84', 749),\n",
       " ('0x6649Bc987a7c0fB0199c523de1b1b330cd0457A8', 749)]"
      ]
     },
     "execution_count": 31,
     "metadata": {},
     "output_type": "execute_result"
    }
   ],
   "source": [
    "[(w.receiver, w.percentageNumerator) for w in pl.args.weights]"
   ]
  },
  {
   "cell_type": "code",
   "execution_count": null,
   "metadata": {},
   "outputs": [],
   "source": []
  }
 ],
 "metadata": {
  "kernelspec": {
   "display_name": "beraboost",
   "language": "python",
   "name": "python3"
  },
  "language_info": {
   "codemirror_mode": {
    "name": "ipython",
    "version": 3
   },
   "file_extension": ".py",
   "mimetype": "text/x-python",
   "name": "python",
   "nbconvert_exporter": "python",
   "pygments_lexer": "ipython3",
   "version": "3.10.16"
  }
 },
 "nbformat": 4,
 "nbformat_minor": 2
}
